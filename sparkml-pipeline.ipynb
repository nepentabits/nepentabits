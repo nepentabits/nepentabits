{
 "cells": [
  {
   "cell_type": "code",
   "execution_count": 1,
   "metadata": {},
   "outputs": [],
   "source": [
    "#from pyspark.sql import SparkSession\n",
    "#spark_session = SparkSession.builder.appName('abc').getOrCreate()"
   ]
  },
  {
   "cell_type": "code",
   "execution_count": 2,
   "metadata": {},
   "outputs": [],
   "source": [
    "# the type transformer\n",
    "from pyspark.ml.feature import SQLTransformer\n",
    "\n",
    "sql_transformer01 = SQLTransformer(\n",
    "    statement=\"\"\"\n",
    "        SELECT\n",
    "            cast(season as int),\n",
    "            cast(yr as int),\n",
    "            cast(mnth as int),\n",
    "            cast(holiday as int),\n",
    "            cast(weekday as int),\n",
    "            cast(workingday as int),\n",
    "            cast(weathersit as int),\n",
    "            cast(temp as double),\n",
    "            cast(atemp as double),\n",
    "            cast(hum as double),\n",
    "            cast(windspeed as double),\n",
    "            cast(cnt as int) as label\n",
    "        FROM __THIS__\n",
    "    \"\"\")"
   ]
  },
  {
   "cell_type": "code",
   "execution_count": 4,
   "metadata": {},
   "outputs": [],
   "source": [
    "# the assembly transfomer\n",
    "from pyspark.ml.feature import VectorAssembler\n",
    "assembler = VectorAssembler(). \\\n",
    "    setInputCols([\"season\",\"yr\",\"mnth\",\"holiday\",\"weekday\",\"workingday\",\"weathersit\",\"temp\",\n",
    "                 \"atemp\",\"hum\",\"windspeed\"]). \\\n",
    "    setOutputCol(\"features\")"
   ]
  },
  {
   "cell_type": "code",
   "execution_count": 3,
   "metadata": {},
   "outputs": [],
   "source": [
    "# the selection of needed variables transformer\n",
    "sql_transformer02 = SQLTransformer(\n",
    "    statement = \"\"\"\n",
    "        SELECT\n",
    "            features,\n",
    "            label\n",
    "        FROM __THIS__\n",
    "    \"\"\"\n",
    "    )"
   ]
  },
  {
   "cell_type": "code",
   "execution_count": 5,
   "metadata": {},
   "outputs": [],
   "source": [
    "# The linear regression model\n",
    "from pyspark.ml.regression import LinearRegression\n",
    "lr = LinearRegression()"
   ]
  },
  {
   "cell_type": "code",
   "execution_count": 6,
   "metadata": {},
   "outputs": [],
   "source": [
    "# Assembly the pipeline\n",
    "from pyspark.ml import Pipeline\n",
    "\n",
    "pipeline = Pipeline(stages=[\n",
    "    sql_transformer01,\n",
    "    assembler,\n",
    "    sql_transformer02,\n",
    "    lr\n",
    "])"
   ]
  },
  {
   "cell_type": "code",
   "execution_count": 8,
   "metadata": {},
   "outputs": [],
   "source": [
    "# Read the data\n",
    "train_data = spark_session.read.csv('day.csv', header=True)"
   ]
  },
  {
   "cell_type": "code",
   "execution_count": 9,
   "metadata": {},
   "outputs": [],
   "source": [
    "# fit the pipeline\n",
    "pipeline_model = pipeline.fit(train_data)"
   ]
  },
  {
   "cell_type": "code",
   "execution_count": 10,
   "metadata": {},
   "outputs": [
    {
     "data": {
      "text/html": [
       "<div>\n",
       "<style scoped>\n",
       "    .dataframe tbody tr th:only-of-type {\n",
       "        vertical-align: middle;\n",
       "    }\n",
       "\n",
       "    .dataframe tbody tr th {\n",
       "        vertical-align: top;\n",
       "    }\n",
       "\n",
       "    .dataframe thead th {\n",
       "        text-align: right;\n",
       "    }\n",
       "</style>\n",
       "<table border=\"1\" class=\"dataframe\">\n",
       "  <thead>\n",
       "    <tr style=\"text-align: right;\">\n",
       "      <th></th>\n",
       "      <th>features</th>\n",
       "      <th>label</th>\n",
       "      <th>prediction</th>\n",
       "    </tr>\n",
       "  </thead>\n",
       "  <tbody>\n",
       "    <tr>\n",
       "      <th>0</th>\n",
       "      <td>[1.0, 0.0, 1.0, 0.0, 6.0, 0.0, 2.0, 0.344167, ...</td>\n",
       "      <td>985</td>\n",
       "      <td>1898.431797</td>\n",
       "    </tr>\n",
       "    <tr>\n",
       "      <th>1</th>\n",
       "      <td>[1.0, 0.0, 1.0, 0.0, 0.0, 0.0, 2.0, 0.363478, ...</td>\n",
       "      <td>801</td>\n",
       "      <td>1374.425553</td>\n",
       "    </tr>\n",
       "    <tr>\n",
       "      <th>2</th>\n",
       "      <td>[1.0, 0.0, 1.0, 0.0, 1.0, 1.0, 1.0, 0.196364, ...</td>\n",
       "      <td>1349</td>\n",
       "      <td>1512.844903</td>\n",
       "    </tr>\n",
       "    <tr>\n",
       "      <th>3</th>\n",
       "      <td>[1.0, 0.0, 1.0, 0.0, 2.0, 1.0, 1.0, 0.2, 0.212...</td>\n",
       "      <td>1562</td>\n",
       "      <td>1739.506787</td>\n",
       "    </tr>\n",
       "    <tr>\n",
       "      <th>4</th>\n",
       "      <td>[1.0, 0.0, 1.0, 0.0, 3.0, 1.0, 1.0, 0.226957, ...</td>\n",
       "      <td>1600</td>\n",
       "      <td>2012.868269</td>\n",
       "    </tr>\n",
       "  </tbody>\n",
       "</table>\n",
       "</div>"
      ],
      "text/plain": [
       "                                            features  label   prediction\n",
       "0  [1.0, 0.0, 1.0, 0.0, 6.0, 0.0, 2.0, 0.344167, ...    985  1898.431797\n",
       "1  [1.0, 0.0, 1.0, 0.0, 0.0, 0.0, 2.0, 0.363478, ...    801  1374.425553\n",
       "2  [1.0, 0.0, 1.0, 0.0, 1.0, 1.0, 1.0, 0.196364, ...   1349  1512.844903\n",
       "3  [1.0, 0.0, 1.0, 0.0, 2.0, 1.0, 1.0, 0.2, 0.212...   1562  1739.506787\n",
       "4  [1.0, 0.0, 1.0, 0.0, 3.0, 1.0, 1.0, 0.226957, ...   1600  2012.868269"
      ]
     },
     "execution_count": 10,
     "metadata": {},
     "output_type": "execute_result"
    }
   ],
   "source": [
    "# now this model is a transformer\n",
    "train_evaluate = pipeline_model.transform(train_data)\n",
    "\n",
    "train_evaluate.limit(5).toPandas()"
   ]
  },
  {
   "cell_type": "code",
   "execution_count": 15,
   "metadata": {},
   "outputs": [
    {
     "name": "stdout",
     "output_type": "stream",
     "text": [
      "r2 0.800 rmse: 865.226\n"
     ]
    }
   ],
   "source": [
    "# evaluate\n",
    "\n",
    "from pyspark.ml.evaluation import RegressionEvaluator\n",
    "evaluator = RegressionEvaluator()\n",
    "\n",
    "r2 = evaluator.evaluate(train_evaluate, {evaluator.metricName: \"r2\"})\n",
    "rmse = evaluator.evaluate(train_evaluate, {evaluator.metricName: \"rmse\"})\n",
    "\n",
    "print(\"r2 {:.3f} rmse: {:.3f}\".format(r2, rmse))"
   ]
  },
  {
   "cell_type": "code",
   "execution_count": 16,
   "metadata": {},
   "outputs": [],
   "source": [
    "# save the models\n",
    "pipeline_model.save(\"pipeline_model\")"
   ]
  },
  {
   "cell_type": "code",
   "execution_count": null,
   "metadata": {},
   "outputs": [],
   "source": []
  }
 ],
 "metadata": {
  "kernelspec": {
   "display_name": "Python 3",
   "language": "python",
   "name": "python3"
  },
  "language_info": {
   "codemirror_mode": {
    "name": "ipython",
    "version": 3
   },
   "file_extension": ".py",
   "mimetype": "text/x-python",
   "name": "python",
   "nbconvert_exporter": "python",
   "pygments_lexer": "ipython3",
   "version": "3.6.9"
  }
 },
 "nbformat": 4,
 "nbformat_minor": 4
}
